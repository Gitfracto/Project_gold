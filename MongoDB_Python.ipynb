{
 "cells": [
  {
   "cell_type": "code",
   "execution_count": 1,
   "id": "c847697c",
   "metadata": {},
   "outputs": [],
   "source": [
    "import pymongo \n",
    "import pandas as pd\n",
    "from pandas.errors import MergeError\n"
   ]
  },
  {
   "cell_type": "code",
   "execution_count": 2,
   "id": "7c67e334",
   "metadata": {},
   "outputs": [],
   "source": [
    "cliente=pymongo.MongoClient()  # llamar a la clase MongoClient\n",
    "\n",
    "db=cliente.oro            # crear una base de datos"
   ]
  },
  {
   "cell_type": "code",
   "execution_count": 3,
   "id": "6e0ea10e",
   "metadata": {},
   "outputs": [
    {
     "data": {
      "text/plain": [
       "['admin', 'companies', 'config', 'gold', 'local', 'oro', 'ufo']"
      ]
     },
     "execution_count": 3,
     "metadata": {},
     "output_type": "execute_result"
    }
   ],
   "source": [
    "cliente.list_database_names()"
   ]
  },
  {
   "cell_type": "code",
   "execution_count": 4,
   "id": "75d776a1",
   "metadata": {},
   "outputs": [],
   "source": [
    "colec1=db.interest_fed"
   ]
  },
  {
   "cell_type": "code",
   "execution_count": 5,
   "id": "0a0049f2",
   "metadata": {},
   "outputs": [],
   "source": [
    "colec2=db.gold_price"
   ]
  },
  {
   "cell_type": "code",
   "execution_count": 6,
   "id": "5b7bf29b",
   "metadata": {},
   "outputs": [],
   "source": [
    "colec3=db.gold_news"
   ]
  },
  {
   "cell_type": "code",
   "execution_count": 7,
   "id": "bde49c5b",
   "metadata": {},
   "outputs": [
    {
     "data": {
      "text/plain": [
       "['gold_price', 'interest_fed', 'gold_news']"
      ]
     },
     "execution_count": 7,
     "metadata": {},
     "output_type": "execute_result"
    }
   ],
   "source": [
    "db.list_collection_names()"
   ]
  },
  {
   "cell_type": "code",
   "execution_count": 8,
   "id": "226ce69c",
   "metadata": {},
   "outputs": [],
   "source": [
    "colec1.drop()\n",
    "colec2.drop()\n",
    "colec3.drop()"
   ]
  },
  {
   "cell_type": "code",
   "execution_count": 9,
   "id": "1e4a1f47",
   "metadata": {},
   "outputs": [],
   "source": [
    "df1 = pd.read_csv(\"fed_clean.csv\")\n"
   ]
  },
  {
   "cell_type": "code",
   "execution_count": 10,
   "id": "75eb6256",
   "metadata": {},
   "outputs": [],
   "source": [
    "df2 = pd.read_csv(\"gold_clean.csv\")\n"
   ]
  },
  {
   "cell_type": "code",
   "execution_count": 11,
   "id": "83af8d3e",
   "metadata": {},
   "outputs": [],
   "source": [
    "df3 = pd.read_csv(\"news_clean.csv\")\n"
   ]
  },
  {
   "cell_type": "code",
   "execution_count": 12,
   "id": "e2ab9795",
   "metadata": {},
   "outputs": [],
   "source": [
    "df1_mongo_dict = df1.to_dict(orient=\"records\")"
   ]
  },
  {
   "cell_type": "code",
   "execution_count": 13,
   "id": "5982e493",
   "metadata": {},
   "outputs": [],
   "source": [
    "df2_mongo_dict = df2.to_dict(orient=\"records\")"
   ]
  },
  {
   "cell_type": "code",
   "execution_count": 14,
   "id": "e870e7c2",
   "metadata": {},
   "outputs": [],
   "source": [
    "df3_mongo_dict = df3.to_dict(orient=\"records\")"
   ]
  },
  {
   "cell_type": "code",
   "execution_count": 15,
   "id": "2c0aff3e",
   "metadata": {},
   "outputs": [
    {
     "data": {
      "text/plain": [
       "<pymongo.results.InsertManyResult at 0x7f6986ed8980>"
      ]
     },
     "execution_count": 15,
     "metadata": {},
     "output_type": "execute_result"
    }
   ],
   "source": [
    "colec1.insert_many(df1_mongo_dict)"
   ]
  },
  {
   "cell_type": "code",
   "execution_count": 16,
   "id": "b7518877",
   "metadata": {},
   "outputs": [
    {
     "data": {
      "text/plain": [
       "<pymongo.results.InsertManyResult at 0x7f6986f4a340>"
      ]
     },
     "execution_count": 16,
     "metadata": {},
     "output_type": "execute_result"
    }
   ],
   "source": [
    "colec2.insert_many(df2_mongo_dict)"
   ]
  },
  {
   "cell_type": "code",
   "execution_count": 17,
   "id": "3164f7b9",
   "metadata": {},
   "outputs": [
    {
     "data": {
      "text/plain": [
       "<pymongo.results.InsertManyResult at 0x7f6986e85dc0>"
      ]
     },
     "execution_count": 17,
     "metadata": {},
     "output_type": "execute_result"
    }
   ],
   "source": [
    "colec3.insert_many(df3_mongo_dict)"
   ]
  },
  {
   "cell_type": "code",
   "execution_count": 18,
   "id": "dc2d5084",
   "metadata": {},
   "outputs": [
    {
     "data": {
      "text/plain": [
       "['gold_price', 'gold_news', 'interest_fed']"
      ]
     },
     "execution_count": 18,
     "metadata": {},
     "output_type": "execute_result"
    }
   ],
   "source": [
    "db.list_collection_names()"
   ]
  },
  {
   "cell_type": "code",
   "execution_count": 19,
   "id": "85abc0d2",
   "metadata": {},
   "outputs": [
    {
     "data": {
      "text/plain": [
       "[{'year': 2020, 'month': 10, 'day': 2, 'interest_rate': 0.09}]"
      ]
     },
     "execution_count": 19,
     "metadata": {},
     "output_type": "execute_result"
    }
   ],
   "source": [
    "aa = list(colec1.find({\"$and\": [{\"year\": 2020, \"month\": 10,\"day\":2}\n",
    "                               ]},{\"_id\":0,\"year\":1,\"month\":1,\"day\":1,\"interest_rate\":1}))\n",
    "aa\n",
    "#note: the $and second key goes out.\n",
    "#we do this so we dont get the ID and only the values we need for the query.\n",
    "#aa, bb and cc are for practicin the functions below"
   ]
  },
  {
   "cell_type": "code",
   "execution_count": 20,
   "id": "32a80a60",
   "metadata": {},
   "outputs": [
    {
     "data": {
      "text/plain": [
       "[{'year': 2020, 'month': 10, 'day': 2, 'gold_price': 1898.868}]"
      ]
     },
     "execution_count": 20,
     "metadata": {},
     "output_type": "execute_result"
    }
   ],
   "source": [
    "bb = list(colec2.find({\"$and\":[{\"year\": 2020, \"month\": 10,\"day\":2}\n",
    "                               ]},{\"_id\":0,\"year\":1,\"month\":1,\"day\":1,\"gold_price\":1}))\n",
    "bb\n",
    "#aa, bb and cc are for practicin the functions below"
   ]
  },
  {
   "cell_type": "code",
   "execution_count": 21,
   "id": "f8c1879c",
   "metadata": {},
   "outputs": [
    {
     "data": {
      "text/plain": [
       "[{'year': 2020,\n",
       "  'month': 10,\n",
       "  'day': 2,\n",
       "  'url': 'https://www.reuters.com/article/global-precious/precious-gold-holds-1900-level-on-trump-covid-news-set-for-best-week-in-8-idUSL4N2GT2AK'},\n",
       " {'year': 2020,\n",
       "  'month': 10,\n",
       "  'day': 2,\n",
       "  'url': 'https://www.reuters.com/article/global-precious/precious-gold-gains-after-trump-tests-positive-for-coronavirus-idUSL4N2GT1AM'},\n",
       " {'year': 2020,\n",
       "  'month': 10,\n",
       "  'day': 2,\n",
       "  'url': 'https://www.reuters.com/article/global-precious/precious-gold-extends-gains-after-trump-tests-positive-for-covid-19-idUSL4N2GT0B9'}]"
      ]
     },
     "execution_count": 21,
     "metadata": {},
     "output_type": "execute_result"
    }
   ],
   "source": [
    "cc = list(colec3.find({\"$and\":[{\"year\": 2020, \"month\": 10,\"day\":2}\n",
    "                               ]},{\"_id\":0,\"year\":1,\"month\":1,\"day\":1,\"title\":1,\"url\":1}))\n",
    "cc\n",
    "#aa, bb and cc are for practicin the functions below"
   ]
  },
  {
   "cell_type": "code",
   "execution_count": 22,
   "id": "8d2881ff",
   "metadata": {},
   "outputs": [],
   "source": [
    "def fecha():\n",
    "    year = int(input(\"Coloque el año:\"))\n",
    "    month = int(input(\"Coloque el mes:\"))\n",
    "    day =  int(input(\"Coloque el dia:\"))\n",
    "    if year not in [2020,2021] or day not in list(range(1,32)) or month not in list(range(1,13)):\n",
    "        return \"Haz cometido un error al introducir alguno de los datos, por favor revise :)\"\n",
    "    a =list(colec1.find({\"$and\":[ {\"year\": year, \"month\": month,\"day\":day}]}))\n",
    "    b =list(colec2.find({\"$and\":[ {\"year\": year, \"month\": month,\"day\":day}]}))\n",
    "    c =list(colec3.find({\"$and\":[ {\"year\": year, \"month\": month,\"day\":day}]}))\n",
    "    bb = pd.DataFrame(b).drop([\"_id\"],axis=1)\n",
    "    if a:\n",
    "        aa = pd.DataFrame(a).drop([\"_id\"],axis=1)\n",
    "        bb =pd.merge(aa,bb, how = \"left\")\n",
    "    if c:\n",
    "        cc = pd.DataFrame(c).drop([\"_id\"],axis=1)\n",
    "        bb =pd.merge(bb,cc, how = \"left\")\n",
    "\n",
    "    return bb"
   ]
  },
  {
   "cell_type": "code",
   "execution_count": 23,
   "id": "767bad4b",
   "metadata": {},
   "outputs": [
    {
     "data": {
      "text/plain": [
       "'\\ndef fecha_v1():\\n    year = int(input(\"Coloque el año:\"))\\n    month = int(input(\"Coloque el mes:\"))\\n    day =  int(input(\"Coloque el dia:\"))\\n    a =list(colec1.find({\"$and\":[ {\"year\": year, \"month\": month,\"day\":day}]}))\\n    b =list(colec2.find({\"$and\":[ {\"year\": year, \"month\": month,\"day\":day}]}))\\n    c =list(colec3.find({\"$and\":[ {\"year\": year, \"month\": month,\"day\":day}]}))\\n    if a and b and c:\\n        aa = pd.DataFrame(a).drop([\"_id\"],axis=1)\\n        bb = pd.DataFrame(b).drop([\"_id\"],axis=1)\\n        cc = pd.DataFrame(c).drop([\"_id\"],axis=1)\\n        base =pd.merge(aa,bb, how = \"left\")\\n        base =pd.merge(base,cc, how = \"left\")\\n        return base\\n    elif not a and not c:\\n        bb = pd.DataFrame(b).drop([\"_id\"],axis=1)\\n        return bb\\n    elif b and c:\\n        b =list(colec2.find({\"$and\":[ {\"year\": year, \"month\": month,\"day\":day}]}))\\n        c =list(colec3.find({\"$and\":[ {\"year\": year, \"month\": month,\"day\":day}]}))\\n        cc = pd.DataFrame(c).drop([\"_id\"],axis=1)\\n        bb = pd.DataFrame(b).drop([\"_id\"],axis=1)\\n        base =pd.merge(bb,cc, how = \"left\")\\n        return base\\n    elif b and a:\\n        a =list(colec1.find({\"$and\":[ {\"year\": year, \"month\": month,\"day\":day}]}))\\n        b =list(colec2.find({\"$and\":[ {\"year\": year, \"month\": month,\"day\":day}]}))\\n        aa = pd.DataFrame(a).drop([\"_id\"],axis=1)\\n        bb = pd.DataFrame(b).drop([\"_id\"],axis=1)\\n        base =pd.merge(aa,bb, how = \"left\")\\n        return base\\n        '"
      ]
     },
     "execution_count": 23,
     "metadata": {},
     "output_type": "execute_result"
    }
   ],
   "source": [
    "\"\"\"\n",
    "def fecha_v1():\n",
    "    year = int(input(\"Coloque el año:\"))\n",
    "    month = int(input(\"Coloque el mes:\"))\n",
    "    day =  int(input(\"Coloque el dia:\"))\n",
    "    a =list(colec1.find({\"$and\":[ {\"year\": year, \"month\": month,\"day\":day}]}))\n",
    "    b =list(colec2.find({\"$and\":[ {\"year\": year, \"month\": month,\"day\":day}]}))\n",
    "    c =list(colec3.find({\"$and\":[ {\"year\": year, \"month\": month,\"day\":day}]}))\n",
    "    if a and b and c:\n",
    "        aa = pd.DataFrame(a).drop([\"_id\"],axis=1)\n",
    "        bb = pd.DataFrame(b).drop([\"_id\"],axis=1)\n",
    "        cc = pd.DataFrame(c).drop([\"_id\"],axis=1)\n",
    "        base =pd.merge(aa,bb, how = \"left\")\n",
    "        base =pd.merge(base,cc, how = \"left\")\n",
    "        return base\n",
    "    elif not a and not c:\n",
    "        bb = pd.DataFrame(b).drop([\"_id\"],axis=1)\n",
    "        return bb\n",
    "    elif b and c:\n",
    "        b =list(colec2.find({\"$and\":[ {\"year\": year, \"month\": month,\"day\":day}]}))\n",
    "        c =list(colec3.find({\"$and\":[ {\"year\": year, \"month\": month,\"day\":day}]}))\n",
    "        cc = pd.DataFrame(c).drop([\"_id\"],axis=1)\n",
    "        bb = pd.DataFrame(b).drop([\"_id\"],axis=1)\n",
    "        base =pd.merge(bb,cc, how = \"left\")\n",
    "        return base\n",
    "    elif b and a:\n",
    "        a =list(colec1.find({\"$and\":[ {\"year\": year, \"month\": month,\"day\":day}]}))\n",
    "        b =list(colec2.find({\"$and\":[ {\"year\": year, \"month\": month,\"day\":day}]}))\n",
    "        aa = pd.DataFrame(a).drop([\"_id\"],axis=1)\n",
    "        bb = pd.DataFrame(b).drop([\"_id\"],axis=1)\n",
    "        base =pd.merge(aa,bb, how = \"left\")\n",
    "        return base\n",
    "        \"\"\"\n",
    "#la primera version de la funcion"
   ]
  },
  {
   "cell_type": "code",
   "execution_count": 26,
   "id": "7961c208",
   "metadata": {},
   "outputs": [
    {
     "name": "stdout",
     "output_type": "stream",
     "text": [
      "Coloque el año:2020\n",
      "Coloque el mes:10\n",
      "Coloque el dia:10\n"
     ]
    },
    {
     "data": {
      "text/html": [
       "<div>\n",
       "<style scoped>\n",
       "    .dataframe tbody tr th:only-of-type {\n",
       "        vertical-align: middle;\n",
       "    }\n",
       "\n",
       "    .dataframe tbody tr th {\n",
       "        vertical-align: top;\n",
       "    }\n",
       "\n",
       "    .dataframe thead th {\n",
       "        text-align: right;\n",
       "    }\n",
       "</style>\n",
       "<table border=\"1\" class=\"dataframe\">\n",
       "  <thead>\n",
       "    <tr style=\"text-align: right;\">\n",
       "      <th></th>\n",
       "      <th>year</th>\n",
       "      <th>month</th>\n",
       "      <th>day</th>\n",
       "      <th>gold_price</th>\n",
       "    </tr>\n",
       "  </thead>\n",
       "  <tbody>\n",
       "    <tr>\n",
       "      <th>0</th>\n",
       "      <td>2020</td>\n",
       "      <td>10</td>\n",
       "      <td>10</td>\n",
       "      <td>1929.618</td>\n",
       "    </tr>\n",
       "  </tbody>\n",
       "</table>\n",
       "</div>"
      ],
      "text/plain": [
       "   year  month  day  gold_price\n",
       "0  2020     10   10    1929.618"
      ]
     },
     "execution_count": 26,
     "metadata": {},
     "output_type": "execute_result"
    }
   ],
   "source": [
    "fecha()\n"
   ]
  },
  {
   "cell_type": "code",
   "execution_count": null,
   "id": "d59ba496",
   "metadata": {},
   "outputs": [],
   "source": []
  }
 ],
 "metadata": {
  "kernelspec": {
   "display_name": "ironhack",
   "language": "python",
   "name": "ironhack"
  },
  "language_info": {
   "codemirror_mode": {
    "name": "ipython",
    "version": 3
   },
   "file_extension": ".py",
   "mimetype": "text/x-python",
   "name": "python",
   "nbconvert_exporter": "python",
   "pygments_lexer": "ipython3",
   "version": "3.8.5"
  }
 },
 "nbformat": 4,
 "nbformat_minor": 5
}
